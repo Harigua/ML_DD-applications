{
 "cells": [
  {
   "cell_type": "code",
   "execution_count": 1,
   "metadata": {
    "id": "9Fp41vlGkn0x"
   },
   "outputs": [
    {
     "name": "stderr",
     "output_type": "stream",
     "text": [
      "Traceback (most recent call last):\n",
      "  File \"/home/souiai/anaconda3/envs/my-rdkit-env/lib/python3.6/site-packages/rdkit/Chem/PandasTools.py\", line 130, in <module>\n",
      "    if 'display.width' in pd.core.config._registered_options:\n",
      "AttributeError: module 'pandas.core' has no attribute 'config'\n",
      "Using TensorFlow backend.\n"
     ]
    }
   ],
   "source": [
    "import warnings\n",
    "warnings.filterwarnings('ignore')\n",
    "\n",
    "import numpy as np\n",
    "import pandas as pd\n",
    "import os\n",
    "from collections import Counter\n",
    "\n",
    "# RDKit related libraries\n",
    "import rdkit as rd\n",
    "from rdkit.Chem.Fingerprints import FingerprintMols\n",
    "from rdkit import RDConfig\n",
    "from rdkit.Chem import PandasTools\n",
    "from rdkit import Chem\n",
    "from rdkit.Chem.Draw import IPythonConsole\n",
    "from rdkit import DataStructs\n",
    "from rdkit.Chem import AllChem as Chem\n",
    "from rdkit.Chem.rdMolDescriptors import GetAtomPairFingerprint\n",
    "from rdkit.Chem.AtomPairs import Torsions\n",
    "\n",
    "# modélisation\n",
    "import sklearn as sk\n",
    "from sklearn import metrics\n",
    "from sklearn.model_selection import cross_val_score\n",
    "from sklearn.model_selection import train_test_split\n",
    "from sklearn.model_selection import validation_curve\n",
    "from sklearn.linear_model import LogisticRegression\n",
    "from sklearn.linear_model import LogisticRegressionCV\n",
    "from imblearn.over_sampling import ADASYN\n",
    "from sklearn.metrics import classification_report\n",
    "from sklearn.neighbors import KNeighborsClassifier\n",
    "from sklearn.model_selection import GridSearchCV\n",
    "from sklearn.ensemble import GradientBoostingClassifier\n",
    "from sklearn.tree import DecisionTreeClassifier\n",
    "from sklearn.ensemble import RandomForestClassifier\n",
    "from sklearn.naive_bayes import GaussianNB\n",
    "from sklearn.svm import SVC\n",
    "from sklearn.metrics import plot_roc_curve\n",
    "from rdkit.Chem.Draw import IPythonConsole\n",
    "\n",
    "import tempfile\n",
    "import deepchem as dc\n",
    "import tensorflow as tf\n",
    "\n",
    "# Graphes\n",
    "import matplotlib.pyplot as plt\n",
    "import seaborn as sns"
   ]
  },
  {
   "cell_type": "markdown",
   "metadata": {
    "id": "RPK7j2LOlneV"
   },
   "source": [
    " **1. Data manipulation**"
   ]
  },
  {
   "cell_type": "code",
   "execution_count": 3,
   "metadata": {
    "colab": {
     "base_uri": "https://localhost:8080/",
     "height": 204
    },
    "id": "gGNDbqfxmb35",
    "outputId": "31b40a5e-b21e-4813-bb84-abe3a1c75af4"
   },
   "outputs": [
    {
     "data": {
      "text/html": [
       "<div>\n",
       "<style scoped>\n",
       "    .dataframe tbody tr th:only-of-type {\n",
       "        vertical-align: middle;\n",
       "    }\n",
       "\n",
       "    .dataframe tbody tr th {\n",
       "        vertical-align: top;\n",
       "    }\n",
       "\n",
       "    .dataframe thead th {\n",
       "        text-align: right;\n",
       "    }\n",
       "</style>\n",
       "<table border=\"1\" class=\"dataframe\">\n",
       "  <thead>\n",
       "    <tr style=\"text-align: right;\">\n",
       "      <th></th>\n",
       "      <th>Unnamed: 0</th>\n",
       "      <th>PUBCHEM_RESULT_TAG</th>\n",
       "      <th>PUBCHEM_CID</th>\n",
       "      <th>PUBCHEM_ACTIVITY_OUTCOME</th>\n",
       "      <th>PUBCHEM_ACTIVITY_SCORE</th>\n",
       "      <th>smiles</th>\n",
       "      <th>label</th>\n",
       "    </tr>\n",
       "  </thead>\n",
       "  <tbody>\n",
       "    <tr>\n",
       "      <th>0</th>\n",
       "      <td>0</td>\n",
       "      <td>1</td>\n",
       "      <td>16191685</td>\n",
       "      <td>Active</td>\n",
       "      <td>40</td>\n",
       "      <td>COC1=C(C=C(C=C1)F)C(=O)C2CCCN(C2)CC3=CC4=C(C=C...</td>\n",
       "      <td>1.0</td>\n",
       "    </tr>\n",
       "    <tr>\n",
       "      <th>1</th>\n",
       "      <td>1</td>\n",
       "      <td>2</td>\n",
       "      <td>585328</td>\n",
       "      <td>Active</td>\n",
       "      <td>40</td>\n",
       "      <td>CCOC(=O)C1CCN(CC1)C(=O)C23CC4CC(C2)CC(C4)C3</td>\n",
       "      <td>1.0</td>\n",
       "    </tr>\n",
       "    <tr>\n",
       "      <th>2</th>\n",
       "      <td>2</td>\n",
       "      <td>3</td>\n",
       "      <td>2868411</td>\n",
       "      <td>Active</td>\n",
       "      <td>40</td>\n",
       "      <td>CN1C2=CC=CC=C2N(C1=N)CC(C3=CC=CC4=CC=CC=C43)O.Cl</td>\n",
       "      <td>1.0</td>\n",
       "    </tr>\n",
       "    <tr>\n",
       "      <th>3</th>\n",
       "      <td>3</td>\n",
       "      <td>4</td>\n",
       "      <td>9549642</td>\n",
       "      <td>Active</td>\n",
       "      <td>40</td>\n",
       "      <td>CN1CCC(CC1)C2C3=CC=CC=C3SC4=C(O2)C=C(C=C4)Cl.C...</td>\n",
       "      <td>1.0</td>\n",
       "    </tr>\n",
       "    <tr>\n",
       "      <th>4</th>\n",
       "      <td>4</td>\n",
       "      <td>5</td>\n",
       "      <td>5725106</td>\n",
       "      <td>Active</td>\n",
       "      <td>40</td>\n",
       "      <td>CCOC(=O)/C(=C\\C1=CC=C(C=C1)[N+](=O)[O-])/C(=O)...</td>\n",
       "      <td>1.0</td>\n",
       "    </tr>\n",
       "  </tbody>\n",
       "</table>\n",
       "</div>"
      ],
      "text/plain": [
       "   Unnamed: 0  PUBCHEM_RESULT_TAG  PUBCHEM_CID PUBCHEM_ACTIVITY_OUTCOME  \\\n",
       "0           0                   1     16191685                   Active   \n",
       "1           1                   2       585328                   Active   \n",
       "2           2                   3      2868411                   Active   \n",
       "3           3                   4      9549642                   Active   \n",
       "4           4                   5      5725106                   Active   \n",
       "\n",
       "   PUBCHEM_ACTIVITY_SCORE                                             smiles  \\\n",
       "0                      40  COC1=C(C=C(C=C1)F)C(=O)C2CCCN(C2)CC3=CC4=C(C=C...   \n",
       "1                      40        CCOC(=O)C1CCN(CC1)C(=O)C23CC4CC(C2)CC(C4)C3   \n",
       "2                      40   CN1C2=CC=CC=C2N(C1=N)CC(C3=CC=CC4=CC=CC=C43)O.Cl   \n",
       "3                      40  CN1CCC(CC1)C2C3=CC=CC=C3SC4=C(O2)C=C(C=C4)Cl.C...   \n",
       "4                      40  CCOC(=O)/C(=C\\C1=CC=C(C=C1)[N+](=O)[O-])/C(=O)...   \n",
       "\n",
       "   label  \n",
       "0    1.0  \n",
       "1    1.0  \n",
       "2    1.0  \n",
       "3    1.0  \n",
       "4    1.0  "
      ]
     },
     "execution_count": 3,
     "metadata": {},
     "output_type": "execute_result"
    }
   ],
   "source": [
    "data = pd.read_csv (r'./AID_1063_datatable_smiles_label.csv')\n",
    "data.head()"
   ]
  },
  {
   "cell_type": "code",
   "execution_count": 4,
   "metadata": {},
   "outputs": [
    {
     "data": {
      "text/html": [
       "<div>\n",
       "<style scoped>\n",
       "    .dataframe tbody tr th:only-of-type {\n",
       "        vertical-align: middle;\n",
       "    }\n",
       "\n",
       "    .dataframe tbody tr th {\n",
       "        vertical-align: top;\n",
       "    }\n",
       "\n",
       "    .dataframe thead th {\n",
       "        text-align: right;\n",
       "    }\n",
       "</style>\n",
       "<table border=\"1\" class=\"dataframe\">\n",
       "  <thead>\n",
       "    <tr style=\"text-align: right;\">\n",
       "      <th></th>\n",
       "      <th>Unnamed: 0</th>\n",
       "      <th>PUBCHEM_RESULT_TAG</th>\n",
       "      <th>PUBCHEM_CID</th>\n",
       "      <th>PUBCHEM_ACTIVITY_OUTCOME</th>\n",
       "      <th>PUBCHEM_ACTIVITY_SCORE</th>\n",
       "      <th>smiles</th>\n",
       "      <th>label</th>\n",
       "      <th>status</th>\n",
       "    </tr>\n",
       "  </thead>\n",
       "  <tbody>\n",
       "    <tr>\n",
       "      <th>0</th>\n",
       "      <td>0</td>\n",
       "      <td>1</td>\n",
       "      <td>16191685</td>\n",
       "      <td>Active</td>\n",
       "      <td>40</td>\n",
       "      <td>COC1=C(C=C(C=C1)F)C(=O)C2CCCN(C2)CC3=CC4=C(C=C...</td>\n",
       "      <td>1.0</td>\n",
       "      <td>Active</td>\n",
       "    </tr>\n",
       "    <tr>\n",
       "      <th>1</th>\n",
       "      <td>1</td>\n",
       "      <td>2</td>\n",
       "      <td>585328</td>\n",
       "      <td>Active</td>\n",
       "      <td>40</td>\n",
       "      <td>CCOC(=O)C1CCN(CC1)C(=O)C23CC4CC(C2)CC(C4)C3</td>\n",
       "      <td>1.0</td>\n",
       "      <td>Active</td>\n",
       "    </tr>\n",
       "    <tr>\n",
       "      <th>2</th>\n",
       "      <td>2</td>\n",
       "      <td>3</td>\n",
       "      <td>2868411</td>\n",
       "      <td>Active</td>\n",
       "      <td>40</td>\n",
       "      <td>CN1C2=CC=CC=C2N(C1=N)CC(C3=CC=CC4=CC=CC=C43)O.Cl</td>\n",
       "      <td>1.0</td>\n",
       "      <td>Active</td>\n",
       "    </tr>\n",
       "    <tr>\n",
       "      <th>3</th>\n",
       "      <td>3</td>\n",
       "      <td>4</td>\n",
       "      <td>9549642</td>\n",
       "      <td>Active</td>\n",
       "      <td>40</td>\n",
       "      <td>CN1CCC(CC1)C2C3=CC=CC=C3SC4=C(O2)C=C(C=C4)Cl.C...</td>\n",
       "      <td>1.0</td>\n",
       "      <td>Active</td>\n",
       "    </tr>\n",
       "    <tr>\n",
       "      <th>4</th>\n",
       "      <td>4</td>\n",
       "      <td>5</td>\n",
       "      <td>5725106</td>\n",
       "      <td>Active</td>\n",
       "      <td>40</td>\n",
       "      <td>CCOC(=O)/C(=C\\C1=CC=C(C=C1)[N+](=O)[O-])/C(=O)...</td>\n",
       "      <td>1.0</td>\n",
       "      <td>Active</td>\n",
       "    </tr>\n",
       "  </tbody>\n",
       "</table>\n",
       "</div>"
      ],
      "text/plain": [
       "   Unnamed: 0  PUBCHEM_RESULT_TAG  PUBCHEM_CID PUBCHEM_ACTIVITY_OUTCOME  \\\n",
       "0           0                   1     16191685                   Active   \n",
       "1           1                   2       585328                   Active   \n",
       "2           2                   3      2868411                   Active   \n",
       "3           3                   4      9549642                   Active   \n",
       "4           4                   5      5725106                   Active   \n",
       "\n",
       "   PUBCHEM_ACTIVITY_SCORE                                             smiles  \\\n",
       "0                      40  COC1=C(C=C(C=C1)F)C(=O)C2CCCN(C2)CC3=CC4=C(C=C...   \n",
       "1                      40        CCOC(=O)C1CCN(CC1)C(=O)C23CC4CC(C2)CC(C4)C3   \n",
       "2                      40   CN1C2=CC=CC=C2N(C1=N)CC(C3=CC=CC4=CC=CC=C43)O.Cl   \n",
       "3                      40  CN1CCC(CC1)C2C3=CC=CC=C3SC4=C(O2)C=C(C=C4)Cl.C...   \n",
       "4                      40  CCOC(=O)/C(=C\\C1=CC=C(C=C1)[N+](=O)[O-])/C(=O)...   \n",
       "\n",
       "   label  status  \n",
       "0    1.0  Active  \n",
       "1    1.0  Active  \n",
       "2    1.0  Active  \n",
       "3    1.0  Active  \n",
       "4    1.0  Active  "
      ]
     },
     "execution_count": 4,
     "metadata": {},
     "output_type": "execute_result"
    }
   ],
   "source": [
    "conditions = [\n",
    "    (data['label'] == 1),\n",
    "    (data['label'] == 0),\n",
    "    (data['label'] == 2 )]\n",
    "choices = ['Active', 'Inactive', 'Unkown']\n",
    "data['status'] = np.select(conditions, choices,default='unkown')\n",
    "data.head()"
   ]
  },
  {
   "cell_type": "markdown",
   "metadata": {
    "id": "Zm_UoxhvHUz6"
   },
   "source": [
    "**2. Statistics**"
   ]
  },
  {
   "cell_type": "code",
   "execution_count": 6,
   "metadata": {
    "colab": {
     "base_uri": "https://localhost:8080/"
    },
    "id": "DbaSvPXwHe3k",
    "outputId": "3d7d09bd-edec-42e3-eb6d-b20bfd536f1d"
   },
   "outputs": [
    {
     "name": "stdout",
     "output_type": "stream",
     "text": [
      "<class 'pandas.core.frame.DataFrame'>\n",
      "RangeIndex: 65057 entries, 0 to 65056\n",
      "Data columns (total 8 columns):\n",
      " #   Column                    Non-Null Count  Dtype  \n",
      "---  ------                    --------------  -----  \n",
      " 0   Unnamed: 0                65057 non-null  int64  \n",
      " 1   PUBCHEM_RESULT_TAG        65057 non-null  int64  \n",
      " 2   PUBCHEM_CID               65057 non-null  int64  \n",
      " 3   PUBCHEM_ACTIVITY_OUTCOME  65057 non-null  object \n",
      " 4   PUBCHEM_ACTIVITY_SCORE    65057 non-null  int64  \n",
      " 5   smiles                    65057 non-null  object \n",
      " 6   label                     65057 non-null  float64\n",
      " 7   status                    65057 non-null  object \n",
      "dtypes: float64(1), int64(4), object(3)\n",
      "memory usage: 4.0+ MB\n"
     ]
    }
   ],
   "source": [
    "data.info()"
   ]
  },
  {
   "cell_type": "code",
   "execution_count": 7,
   "metadata": {
    "colab": {
     "base_uri": "https://localhost:8080/"
    },
    "id": "OjC6g6a8J8l0",
    "outputId": "3bf3b831-d61a-4f95-a73f-c33d2439cdc4"
   },
   "outputs": [
    {
     "data": {
      "text/plain": [
       "array([1., 0.])"
      ]
     },
     "execution_count": 7,
     "metadata": {},
     "output_type": "execute_result"
    }
   ],
   "source": [
    "data['label'].unique()"
   ]
  },
  {
   "cell_type": "code",
   "execution_count": 8,
   "metadata": {
    "colab": {
     "base_uri": "https://localhost:8080/",
     "height": 592
    },
    "id": "CbZowTW4KNJh",
    "outputId": "96730524-d4fd-4414-b460-5f6756842651"
   },
   "outputs": [
    {
     "data": {
      "text/plain": [
       "<matplotlib.axes._subplots.AxesSubplot at 0x7fac299b7fd0>"
      ]
     },
     "execution_count": 8,
     "metadata": {},
     "output_type": "execute_result"
    },
    {
     "data": {
      "image/png": "[encoded data removed]",
      "text/plain": [
       "<Figure size 360x360 with 1 Axes>"
      ]
     },
     "metadata": {},
     "output_type": "display_data"
    }
   ],
   "source": [
    "data1=data\n",
    "type_counts = data['status'].value_counts()\n",
    "data1 = pd.DataFrame({'status': type_counts}, \n",
    "                     index = choices \n",
    "                   )\n",
    "data1.plot.pie(y='status', figsize=(5,5), autopct='%1.1f%%')"
   ]
  },
  {
   "cell_type": "code",
   "execution_count": 9,
   "metadata": {
    "colab": {
     "base_uri": "https://localhost:8080/",
     "height": 611
    },
    "id": "WykXaJ-SLx7c",
    "outputId": "acd472af-cebc-423d-d966-dbbe15b95759"
   },
   "outputs": [
    {
     "data": {
      "image/png": "[encoded data removed]",
      "text/plain": [
       "<Figure size 720x504 with 1 Axes>"
      ]
     },
     "metadata": {},
     "output_type": "display_data"
    }
   ],
   "source": [
    "import matplotlib.pyplot as plt\n",
    "import seaborn as sns\n",
    "sns.set(style='darkgrid')\n",
    "plt.figure(figsize=(10,7))\n",
    "ax = sns.countplot(x='label', data=data)"
   ]
  },
  {
   "cell_type": "code",
   "execution_count": 10,
   "metadata": {},
   "outputs": [
    {
     "data": {
      "text/plain": [
       "17630"
      ]
     },
     "execution_count": 10,
     "metadata": {},
     "output_type": "execute_result"
    }
   ],
   "source": [
    "(data['label']==1).sum()"
   ]
  },
  {
   "cell_type": "markdown",
   "metadata": {
    "id": "SwGd_4Fu16QQ"
   },
   "source": [
    "**3. Data encoding**"
   ]
  },
  {
   "cell_type": "code",
   "execution_count": 11,
   "metadata": {
    "colab": {
     "base_uri": "https://localhost:8080/"
    },
    "id": "7I9h4EBvoAzV",
    "outputId": "206feabe-ea09-44e6-b06c-c420c9987142"
   },
   "outputs": [],
   "source": [
    "mols = [Chem.MolFromSmiles(x) for x in data[\"smiles\"]]"
   ]
  },
  {
   "cell_type": "code",
   "execution_count": 12,
   "metadata": {
    "colab": {
     "base_uri": "https://localhost:8080/"
    },
    "id": "2MOg_YfFq-UJ",
    "outputId": "feb2207a-4463-43e5-d8fd-eab52cfc8e63"
   },
   "outputs": [
    {
     "data": {
      "text/plain": [
       "65057"
      ]
     },
     "execution_count": 12,
     "metadata": {},
     "output_type": "execute_result"
    }
   ],
   "source": [
    "len(mols)"
   ]
  },
  {
   "cell_type": "code",
   "execution_count": 13,
   "metadata": {
    "colab": {
     "base_uri": "https://localhost:8080/"
    },
    "id": "BlrK-DnTqDAN",
    "outputId": "f9b8f057-e5a1-4717-9544-26fab495d131",
    "scrolled": true
   },
   "outputs": [
    {
     "name": "stdout",
     "output_type": "stream",
     "text": [
      "65057\n"
     ]
    }
   ],
   "source": [
    "s=[]\n",
    "for i in range(len(data)) :\n",
    "    try :\n",
    "        Chem.GetMorganFingerprintAsBitVect(data['mol'][i],2, nBits = 2048)\n",
    "    except:\n",
    "        s.append(i)\n",
    "print(len(s))"
   ]
  },
  {
   "cell_type": "code",
   "execution_count": null,
   "metadata": {
    "colab": {
     "base_uri": "https://localhost:8080/",
     "height": 421
    },
    "id": "sAEavfvYr7Pq",
    "outputId": "e209839d-69e6-4516-b254-6d59d3610277"
   },
   "outputs": [],
   "source": [
    "from rdkit.Chem import Draw\n",
    "sel_mols = mols[:8]\n",
    "Draw.MolsToGridImage(sel_mols, molsPerRow=4, useSVG=True) #, legends=list(data['PUBCHEM_CID'][:8].values))"
   ]
  },
  {
   "cell_type": "markdown",
   "metadata": {},
   "source": [
    "Chemical similarity"
   ]
  },
  {
   "cell_type": "code",
   "execution_count": 27,
   "metadata": {
    "colab": {
     "base_uri": "https://localhost:8080/"
    },
    "id": "lZeaG4IHsL8o",
    "outputId": "19435e82-fb88-4ac8-f3b2-60c4c567d371"
   },
   "outputs": [
    {
     "name": "stdout",
     "output_type": "stream",
     "text": [
      "0.010121457489878543\n",
      "0.9909584086799277\n"
     ]
    }
   ],
   "source": [
    "from rdkit import DataStructs\n",
    "fps = [Chem.RDKFingerprint(x) for x in mols]\n",
    "s=[]\n",
    "for i in range(len(data)-1):\n",
    "    s.append(DataStructs.FingerprintSimilarity(fps[i],fps[i+1]))\n",
    "print(min(s)) \n",
    "print(max(s)) \n",
    "s=np.asarray(s)"
   ]
  },
  {
   "cell_type": "code",
   "execution_count": 28,
   "metadata": {},
   "outputs": [
    {
     "data": {
      "image/png": "[encoded data removed]",
      "text/plain": [
       "<Figure size 432x288 with 1 Axes>"
      ]
     },
     "metadata": {},
     "output_type": "display_data"
    }
   ],
   "source": [
    "h=plt.hist(s, bins=100)\n",
    "#plt.show()\n",
    "plt.savefig('sim_hist.png', dpi=300)"
   ]
  },
  {
   "cell_type": "code",
   "execution_count": 30,
   "metadata": {},
   "outputs": [],
   "source": [
    "#save the results\n",
    "np.save(\"pw_dist.npy\", s)\n",
    "np.savetxt(\"pw_dist.csv\", s, delimiter=\",\")"
   ]
  },
  {
   "cell_type": "markdown",
   "metadata": {
    "id": "nU44ADBBwArq"
   },
   "source": [
    "Morgan circular fingerprint"
   ]
  },
  {
   "cell_type": "code",
   "execution_count": 35,
   "metadata": {
    "id": "kbF2uXn_uGlJ"
   },
   "outputs": [],
   "source": [
    "morg_fp = [Chem.GetMorganFingerprintAsBitVect(m, 2, nBits = 2048) for m in mols]\n",
    "\n",
    "\n",
    "morg_fp_np = []\n",
    "for fp in morg_fp:\n",
    "    arr = np.zeros((1,))\n",
    "    DataStructs.ConvertToNumpyArray(fp, arr)\n",
    "    morg_fp_np.append(arr)\n",
    "\n",
    "np.save(\"ecfp4_fp.npy\", morg_fp_np)"
   ]
  },
  {
   "cell_type": "code",
   "execution_count": null,
   "metadata": {},
   "outputs": [],
   "source": [
    "morg_fp3 = [Chem.GetMorganFingerprintAsBitVect(m, 3, nBits = 2048) for m in mols]\n",
    "\n",
    "\n",
    "morg_fp3_np = []\n",
    "for fp in morg_fp3:\n",
    "    arr = np.zeros((1,))\n",
    "    DataStructs.ConvertToNumpyArray(fp, arr)\n",
    "    morg_fp3_np.append(arr)\n",
    "\n",
    "np.save(\"ecfp6_fp.npy\", morg_fp3_np)"
   ]
  },
  {
   "cell_type": "markdown",
   "metadata": {
    "id": "n4Fc3KPkwDI4"
   },
   "source": [
    "Daylight-like fingerprint"
   ]
  },
  {
   "cell_type": "code",
   "execution_count": 37,
   "metadata": {
    "id": "J4k8IQG_vN0K"
   },
   "outputs": [],
   "source": [
    "\n",
    "rd_fp = [Chem.RDKFingerprint(m) for m in mols]\n",
    "\n",
    "rd_fp_np = []\n",
    "for fp in rd_fp:\n",
    "    arr = np.zeros((1,))\n",
    "    DataStructs.ConvertToNumpyArray(fp, arr)\n",
    "    rd_fp_np.append(arr)\n",
    "    \n",
    "np.save(\"rd_fp.npy\", rd_fp_np)"
   ]
  },
  {
   "cell_type": "markdown",
   "metadata": {
    "id": "adSmUmx2wUjZ"
   },
   "source": [
    "Atom-pair fingerprint "
   ]
  },
  {
   "cell_type": "code",
   "execution_count": null,
   "metadata": {
    "id": "La5b6W_xwYNX"
   },
   "outputs": [],
   "source": [
    "\n",
    "AP_fp = [Chem.GetHashedAtomPairFingerprintAsBitVect(m) for m in mols]\n",
    "\n",
    "AP_fp_np = []\n",
    "for fp in AP_fp:\n",
    "    arr = np.zeros((1,))\n",
    "    DataStructs.ConvertToNumpyArray(fp, arr)\n",
    "    AP_fp_np.append(arr)\n",
    "\n",
    "np.save(\"ap_fp.npy\", AP_fp_np)"
   ]
  },
  {
   "cell_type": "markdown",
   "metadata": {
    "id": "X8EegCbxwhDU"
   },
   "source": [
    "Topological torsion fingerprints"
   ]
  },
  {
   "cell_type": "code",
   "execution_count": null,
   "metadata": {
    "id": "tuFpeR9Ww48N"
   },
   "outputs": [],
   "source": [
    "\n",
    "torsion_fp = [Chem.GetHashedTopologicalTorsionFingerprintAsBitVect(m) for m in mols]\n",
    "\n",
    "torsion_fp_np = []\n",
    "for fp in torsion_fp:\n",
    "    arr = np.zeros((1,))\n",
    "    DataStructs.ConvertToNumpyArray(fp, arr)\n",
    "    torsion_fp_np.append(arr)\n",
    "    \n",
    "np.save(\"torsion_fp.npy\", )"
   ]
  },
  {
   "cell_type": "code",
   "execution_count": null,
   "metadata": {
    "id": "Rg8aKOsZyYjC"
   },
   "outputs": [],
   "source": [
    "#morgan fingerprints\n",
    "x_morg2 = morg_fp_np\n",
    "x_morg3 = morg_fp3_np\n",
    "\n",
    "#daylight-like fingerprints\n",
    "x_rd = rd_fp_np\n",
    "\n",
    "#atom-pair fingerprints\n",
    "x_AP = AP_fp_np\n",
    "\n",
    "#topological torsion fingerprints\n",
    "x_torsion = torsion_fp_np\n",
    "\n",
    "#classification labels\n",
    "y = data.label.values"
   ]
  },
  {
   "cell_type": "code",
   "execution_count": 4,
   "metadata": {},
   "outputs": [],
   "source": [
    "x_morg = np.load('ecfp4_fp.npy')\n",
    "y = data.label.values\n",
    "#y=np.load('')"
   ]
  },
  {
   "cell_type": "markdown",
   "metadata": {
    "id": "dVBOKrWlyqH-"
   },
   "source": [
    "Est ce que notre dataset est equilibrée ?"
   ]
  },
  {
   "cell_type": "code",
   "execution_count": 7,
   "metadata": {
    "colab": {
     "base_uri": "https://localhost:8080/",
     "height": 382
    },
    "id": "j-BATsz2yccQ",
    "outputId": "85b6413d-4637-4a85-eba3-89baa93316c2"
   },
   "outputs": [
    {
     "data": {
      "image/png": "[encoded data removed]",
      "text/plain": [
       "<Figure size 360x360 with 1 Axes>"
      ]
     },
     "metadata": {
      "needs_background": "light"
     },
     "output_type": "display_data"
    }
   ],
   "source": [
    "#y = data.label.values\n",
    "unique, counts = np.unique(y, return_counts=True)\n",
    "dict(zip(unique, counts)) \n",
    "count1 = sns.catplot(x=\"label\", kind=\"count\", palette=\"ch:.25\", data=data)"
   ]
  },
  {
   "cell_type": "markdown",
   "metadata": {
    "id": "uPXSHDiKzeSV"
   },
   "source": []
  },
  {
   "cell_type": "markdown",
   "metadata": {},
   "source": [
    "## Machine Learning"
   ]
  },
  {
   "cell_type": "markdown",
   "metadata": {},
   "source": [
    "#### We here only put code for the morgan fingerprints encoded data.\n",
    "##### We herein used the ADASYN method for equilibration. Other algorithms may be used, such as ROS"
   ]
  },
  {
   "cell_type": "code",
   "execution_count": null,
   "metadata": {
    "colab": {
     "base_uri": "https://localhost:8080/"
    },
    "id": "igqx0ephzqGB",
    "outputId": "e1f19c08-3ae7-4fff-8fc9-806dab5c4683"
   },
   "outputs": [],
   "source": [
    "x_morg_rsmp, y_morg_rsmp = ADASYN().fit_resample(x_morg, y)\n",
    "morg_sample_count = sorted(Counter(y_morg_rsmp).items())\n",
    "\n",
    "print(\"Morgan distribution:\", morg_sample_count)"
   ]
  },
  {
   "cell_type": "code",
   "execution_count": null,
   "metadata": {},
   "outputs": [],
   "source": [
    "#morgan fingerprints\n",
    "x_morg = morg_fp_np\n",
    "x_morg_rsmp, y_morg_rsmp = ADASYN().fit_resample(x_morg, y)\n",
    "morg_sample_count = sorted(Counter(y_morg_rsmp).items())"
   ]
  },
  {
   "cell_type": "code",
   "execution_count": null,
   "metadata": {},
   "outputs": [],
   "source": [
    "np.save(\"x_morg.npy\",morg_fp_np)"
   ]
  },
  {
   "cell_type": "code",
   "execution_count": null,
   "metadata": {
    "colab": {
     "base_uri": "https://localhost:8080/",
     "height": 399
    },
    "id": "ILFAzgS60LXK",
    "outputId": "ad49d48e-e122-44b6-9330-7f63ef19e92e"
   },
   "outputs": [],
   "source": [
    "y_morg_rsmp_df = pd.DataFrame(y_morg_rsmp, columns=['label'])\n",
    "sns.catplot(x=\"label\", kind=\"count\", palette=\"ch:.25\", data=y_morg_rsmp_df)"
   ]
  },
  {
   "cell_type": "code",
   "execution_count": null,
   "metadata": {},
   "outputs": [],
   "source": [
    "x_morg_rsmp = morg_fp_np\n",
    "y_morg_rsmp = y"
   ]
  },
  {
   "cell_type": "code",
   "execution_count": null,
   "metadata": {},
   "outputs": [],
   "source": [
    "# Par&&&titionnement de data en 80/20 train/test split\n",
    "x_morg_train, x_morg_test, y_morg_train, y_morg_test = train_test_split(x_morg_rsmp, y_morg_rsmp, test_size=0.2, random_state=1)\n",
    "# training data en 80/20 train/validtion split \n",
    "x_morg_train, x_morg_val, y_morg_train, y_morg_val = train_test_split(x_morg_train, y_morg_train, test_size=0.2, random_state=1)\n"
   ]
  },
  {
   "cell_type": "markdown",
   "metadata": {
    "id": "WlCSusWVZGiP"
   },
   "source": [
    "**LINEAR REGRESSION **"
   ]
  },
  {
   "cell_type": "code",
   "execution_count": 11,
   "metadata": {
    "id": "lDFb3FdtZOYy"
   },
   "outputs": [],
   "source": [
    "#set our linear regression function\n",
    "lr = LogisticRegression(solver = 'lbfgs', max_iter = 1000)"
   ]
  },
  {
   "cell_type": "code",
   "execution_count": 12,
   "metadata": {
    "id": "3J9RHupAaHa8"
   },
   "outputs": [],
   "source": [
    "# A function to train the logistic regression classifier on given x and y training sets\n",
    "def lrCV_model(x_train, y_train):\n",
    "    lr = LogisticRegression(solver = 'lbfgs', max_iter = 650)\n",
    "    model_accuracy = cross_val_score(lr, x_train, y_train, scoring='accuracy', cv = 5)\n",
    "    accuracy_printout = \"Accuracy of Model with Cross Validation is:\",model_accuracy.mean() * 100, \"(+/- %0.2f)\" % model_accuracy.std()\n",
    "    lr_fit = LogisticRegressionCV(cv=5, solver = 'lbfgs', max_iter = 650, multi_class = \"ovr\", n_jobs = -1).fit(x_train, y_train)\n",
    "    \n",
    "    return lr_fit\n",
    "#train logistic regression models for all fingerprints\n",
    "lr_morg = lrCV_model(x_morg_train, y_morg_train)\n"
   ]
  },
  {
   "cell_type": "markdown",
   "metadata": {
    "id": "26mmvR2nZZXy"
   },
   "source": [
    "**3.2.1.1 REGRESSION LINEAIRE Morgan circular fingerprint**\n",
    "\n",
    "\n"
   ]
  },
  {
   "cell_type": "code",
   "execution_count": 13,
   "metadata": {
    "colab": {
     "base_uri": "https://localhost:8080/"
    },
    "id": "lS7yjzytZwT9",
    "outputId": "3e863c1e-0f07-467c-fadd-b6e81640b549"
   },
   "outputs": [
    {
     "name": "stdout",
     "output_type": "stream",
     "text": [
      "Accuracy of Model with Cross Validation is: 75.18250642698139 (+/- 0.01)\n"
     ]
    },
    {
     "name": "stderr",
     "output_type": "stream",
     "text": [
      "\n",
      "KeyboardInterrupt\n",
      "\n"
     ]
    }
   ],
   "source": [
    "accuracy_morg = cross_val_score(lr, x_morg_train, y_morg_train, scoring='accuracy', cv = 10)\n",
    "print(\"Accuracy of Model with Cross Validation is:\",accuracy_morg.mean() * 100, \"(+/- %0.2f)\" % accuracy_morg.std())\n",
    "lr_morg_ = LogisticRegressionCV(cv=10, solver = 'lbfgs', max_iter = 1000).fit(x_morg_train, y_morg_train)"
   ]
  },
  {
   "cell_type": "code",
   "execution_count": null,
   "metadata": {
    "colab": {
     "base_uri": "https://localhost:8080/"
    },
    "id": "c7e5h083bDR9",
    "outputId": "30b9a6ef-dc26-4079-dcf3-ec3aad4a96a3"
   },
   "outputs": [
    {
     "name": "stdout",
     "output_type": "stream",
     "text": [
      "[[127  13]\n",
      " [  5 136]]\n"
     ]
    }
   ],
   "source": [
    "#prediction en utilisant test set et matrice de confusion\n",
    "predictions_morg_test = lr_morg.predict(x_morg_test)\n",
    "cm_morg_test = metrics.confusion_matrix(y_morg_test, predictions_morg_test)\n",
    "print(cm_morg_test)"
   ]
  },
  {
   "cell_type": "code",
   "execution_count": null,
   "metadata": {
    "colab": {
     "base_uri": "https://localhost:8080/"
    },
    "id": "GP3AAz7vbRU1",
    "outputId": "d05678dd-014b-4e6b-b439-1449b811172e"
   },
   "outputs": [
    {
     "name": "stdout",
     "output_type": "stream",
     "text": [
      "[[106  11]\n",
      " [  0 108]]\n"
     ]
    }
   ],
   "source": [
    "#prediction en utilisant validation set et matrice de confusion \n",
    "predictions_morg_val = lr_morg.predict(x_morg_val)\n",
    "cm_morg_val = metrics.confusion_matrix(y_morg_val, predictions_morg_val)\n",
    "print(cm_morg_val)"
   ]
  },
  {
   "cell_type": "code",
   "execution_count": null,
   "metadata": {
    "colab": {
     "base_uri": "https://localhost:8080/"
    },
    "id": "08vI5AftbslC",
    "outputId": "8522a6f1-3d9a-4f3b-a045-f9677d73f2e4"
   },
   "outputs": [
    {
     "name": "stdout",
     "output_type": "stream",
     "text": [
      "Accuracy of logistic regression classifier on train set: 0.9966555183946488\n",
      "Accuracy of logistic regression classifier on test set: 0.9359430604982206\n",
      "Accuracy of logistic regression classifier on test set: 0.9511111111111111\n"
     ]
    }
   ],
   "source": [
    "score_morg_test = lr_morg.score(x_morg_test, y_morg_test)\n",
    "print('Accuracy of logistic regression classifier on test set:', score_morg_test)\n",
    "score_morg_val = lr_morg.score(x_morg_val, y_morg_val)\n",
    "print('Accuracy of logistic regression classifier on test set:', score_morg_val)"
   ]
  },
  {
   "cell_type": "code",
   "execution_count": null,
   "metadata": {
    "colab": {
     "base_uri": "https://localhost:8080/"
    },
    "id": "4GSWQMVbcC9Q",
    "outputId": "d3ac61ab-1d31-45f5-e73e-7c91fd8a3df7"
   },
   "outputs": [
    {
     "name": "stdout",
     "output_type": "stream",
     "text": [
      "              precision    recall  f1-score   support\n",
      "\n",
      "           0       1.00      0.91      0.95       117\n",
      "           1       0.91      1.00      0.95       108\n",
      "\n",
      "    accuracy                           0.95       225\n",
      "   macro avg       0.95      0.95      0.95       225\n",
      "weighted avg       0.96      0.95      0.95       225\n",
      "\n"
     ]
    }
   ],
   "source": [
    "print(classification_report(y_morg_val, predictions_morg_val))"
   ]
  },
  {
   "cell_type": "code",
   "execution_count": null,
   "metadata": {
    "colab": {
     "base_uri": "https://localhost:8080/",
     "height": 520
    },
    "id": "cJw92YYKcOB5",
    "outputId": "fc724ab6-c6aa-4c2c-bc2d-defb925c3045"
   },
   "outputs": [
    {
     "data": {
      "image/png": "[encoded data removed]",
      "text/plain": [
       "<Figure size 648x648 with 2 Axes>"
      ]
     },
     "metadata": {
      "tags": []
     },
     "output_type": "display_data"
    }
   ],
   "source": [
    "plt.figure(figsize=(9,9))\n",
    "sns.heatmap(cm_morg_test, annot=True, fmt=\".3f\", linewidths=.5, square = True, cmap = 'Blues_r');\n",
    "plt.ylabel('Actual label');\n",
    "plt.xlabel('Predicted label');\n",
    "all_sample_title = 'Accuracy Score: {0}'.format(score_morg_test)\n",
    "plt.title(all_sample_title, size = 15);"
   ]
  },
  {
   "cell_type": "code",
   "execution_count": null,
   "metadata": {
    "colab": {
     "base_uri": "https://localhost:8080/",
     "height": 526
    },
    "id": "HURqr2CHcUdK",
    "outputId": "27e890ea-c141-4413-f9e7-d4fb8d3d4bf2"
   },
   "outputs": [
    {
     "data": {
      "image/png": "[encoded data removed]",
      "text/plain": [
       "<Figure size 648x648 with 2 Axes>"
      ]
     },
     "metadata": {
      "tags": []
     },
     "output_type": "display_data"
    }
   ],
   "source": [
    "plt.figure(figsize=(9,9))\n",
    "sns.heatmap(cm_morg_val, annot=True, fmt=\".3f\", linewidths=.5, square = True, cmap = 'Blues_r');\n",
    "plt.ylabel('Actual label');\n",
    "plt.xlabel('Predicted label');\n",
    "all_sample_title = 'Accuracy Score: {0}'.format(score_morg_val)\n",
    "plt.title(all_sample_title, size = 15);"
   ]
  },
  {
   "cell_type": "markdown",
   "metadata": {
    "id": "teyYUo1Je5ZO"
   },
   "source": [
    "**k-nearest neighbor**"
   ]
  },
  {
   "cell_type": "code",
   "execution_count": null,
   "metadata": {
    "colab": {
     "base_uri": "https://localhost:8080/"
    },
    "id": "Bhup5vBjfDZy",
    "outputId": "fc919d87-6fec-4038-ea56-a0f8127e897a"
   },
   "outputs": [
    {
     "name": "stdout",
     "output_type": "stream",
     "text": [
      "Fitting 2 folds for each of 9 candidates, totalling 18 fits\n"
     ]
    },
    {
     "name": "stderr",
     "output_type": "stream",
     "text": [
      "[Parallel(n_jobs=-1)]: Using backend LokyBackend with 2 concurrent workers.\n",
      "[Parallel(n_jobs=-1)]: Done  18 out of  18 | elapsed:    9.7s finished\n"
     ]
    },
    {
     "data": {
      "text/plain": [
       "0.7915233256442888"
      ]
     },
     "execution_count": 177,
     "metadata": {
      "tags": []
     },
     "output_type": "execute_result"
    }
   ],
   "source": [
    "knn = KNeighborsClassifier()\n",
    "grid_params = {'n_neighbors': [3, 5, 7, 9, 11, 13, 15, 17, 19], 'weights': ['distance'], 'metric': ['euclidean']}\n",
    "knn_cv = GridSearchCV(knn, grid_params, cv=2, verbose = 1, n_jobs = -1)\n",
    "\n",
    "knn_morg = knn_cv.fit(x_morg_train, y_morg_train)\n",
    "\n",
    "knn_cv.best_params_\n",
    "knn_cv.best_score_"
   ]
  },
  {
   "cell_type": "code",
   "execution_count": null,
   "metadata": {
    "id": "oVL7nUCUgE7O"
   },
   "outputs": [],
   "source": [
    "knn3 = KNeighborsClassifier(n_neighbors=3)\n",
    "\n",
    "knn_morg = knn3.fit(x_morg_train, y_morg_train)\n",
    "\n",
    "def mod_acc_knn(x_train, y_train, x_test, y_test):\n",
    "    knn3 = KNeighborsClassifier(n_neighbors=3)\n",
    "    knn_fp = knn3.fit(x_train, y_train)\n",
    "    score_fp_test_knn = knn_fp.score(x_test, y_test)\n",
    "    return score_fp_test_knn"
   ]
  },
  {
   "cell_type": "code",
   "execution_count": null,
   "metadata": {},
   "outputs": [],
   "source": [
    "x_train = x_ecfp4_train\n",
    "y_train = y_ecfp4_train\n",
    "\n",
    "x_test = x_ecfp4_test\n",
    "y_test = y_ecfp4_test\n",
    "\n",
    "print('Accuracy of knn classifier on test set:', knn_acc)\n",
    "knn_acc = mod_acc_knn(x_train, y_train, x_test, y_test)\n",
    "print('Accuracy of knn classifier on test set:', knn_acc)\n",
    "\n",
    "lr_torsion = lrCV_model(x_torsion_train, y_torsion_train)\n",
    "score_torsion = lr_torsion.score(x_torsion_test, y_torsion_test)\n",
    "print('Accuracy of logistic regression classifier on test set:', score_torsion)"
   ]
  },
  {
   "cell_type": "markdown",
   "metadata": {
    "id": "Rihn_5r1lpl3"
   },
   "source": [
    "**Gradient boosting**"
   ]
  },
  {
   "cell_type": "code",
   "execution_count": null,
   "metadata": {
    "id": "zz87wGvcl1Nj"
   },
   "outputs": [],
   "source": [
    "#set search parameters\n",
    "params_gb = {\n",
    "    \"loss\":[\"deviance\"],\n",
    "    \"learning_rate\": [1.0],\n",
    "    \"min_samples_split\": np.linspace(0.1, 0.5, 12),\n",
    "    \"min_samples_leaf\": np.linspace(0.1, 0.5, 12),\n",
    "    \"max_depth\":[3,5,7],\n",
    "    \"max_features\":[\"sqrt\"],\n",
    "    \"criterion\": [\"friedman_mse\"],\n",
    "    \"subsample\":[0.5, 0.75, 0.95],\n",
    "    \"n_estimators\":[100]\n",
    "    }"
   ]
  },
  {
   "cell_type": "code",
   "execution_count": null,
   "metadata": {
    "colab": {
     "base_uri": "https://localhost:8080/"
    },
    "id": "SvedvBHYmD57",
    "outputId": "6ba6d27a-ea69-436f-f57a-b3c19bc73d3a"
   },
   "outputs": [
    {
     "name": "stdout",
     "output_type": "stream",
     "text": [
      "Fitting 2 folds for each of 1296 candidates, totalling 2592 fits\n"
     ]
    },
    {
     "name": "stderr",
     "output_type": "stream",
     "text": [
      "[Parallel(n_jobs=-1)]: Using backend LokyBackend with 2 concurrent workers.\n",
      "[Parallel(n_jobs=-1)]: Done  70 tasks      | elapsed:    5.9s\n",
      "[Parallel(n_jobs=-1)]: Done 312 tasks      | elapsed:   23.8s\n",
      "[Parallel(n_jobs=-1)]: Done 718 tasks      | elapsed:   50.5s\n",
      "[Parallel(n_jobs=-1)]: Done 1284 tasks      | elapsed:  1.5min\n",
      "[Parallel(n_jobs=-1)]: Done 2014 tasks      | elapsed:  2.3min\n",
      "[Parallel(n_jobs=-1)]: Done 2592 out of 2592 | elapsed:  2.9min finished\n"
     ]
    },
    {
     "name": "stdout",
     "output_type": "stream",
     "text": [
      "[[115  25]\n",
      " [ 34 107]]\n",
      "[[100  17]\n",
      " [ 21  87]]\n",
      "Accuracy of gradient boosting classifier on train set: 0.8851727982162765\n",
      "Accuracy of gradient boosting classifier on test set: 0.7900355871886121\n",
      "Accuracy of gradient boosting classifier on validation set: 0.8311111111111111\n"
     ]
    }
   ],
   "source": [
    "gb = GridSearchCV(GradientBoostingClassifier(), params_gb, cv=2, n_jobs=-1, verbose = 2) \n",
    "gb_morg = gb.fit(x_morg_train, y_morg_train)\n",
    "\n",
    "#prediction en utilisant test set et matrice de confusion\n",
    "predictions_morg_test = gb_morg.predict(x_morg_test)\n",
    "cm_morg_test = metrics.confusion_matrix(y_morg_test, predictions_morg_test)\n",
    "print(cm_morg_test)\n",
    "\n",
    "#prediction en utilisant validation set et matrice de confusion \n",
    "predictions_morg_val = gb_morg.predict(x_morg_val)\n",
    "cm_morg_val = metrics.confusion_matrix(y_morg_val, predictions_morg_val)\n",
    "print(cm_morg_val)\n",
    "print('Accuracy of gradient boosting classifier on test set:',gb_morg.score(x_morg_test, y_morg_test))\n",
    "print('Accuracy of gradient boosting classifier on validation set:',gb_morg.score(x_morg_val, y_morg_val))"
   ]
  },
  {
   "cell_type": "markdown",
   "metadata": {
    "id": "dv4aEeqfqJVP"
   },
   "source": [
    "**Decision Trees**"
   ]
  },
  {
   "cell_type": "code",
   "execution_count": null,
   "metadata": {
    "id": "zCFCz7GIqSoB"
   },
   "outputs": [],
   "source": [
    "clf_gini = DecisionTreeClassifier(criterion='gini', max_depth=3, random_state=1)"
   ]
  },
  {
   "cell_type": "markdown",
   "metadata": {
    "id": "EH2ITSFouZC-"
   },
   "source": [
    "**3.2.4.1 arbre de decision Morgan circular fingerprint**"
   ]
  },
  {
   "cell_type": "code",
   "execution_count": null,
   "metadata": {
    "colab": {
     "base_uri": "https://localhost:8080/"
    },
    "id": "JWyZ6ecTrh9l",
    "outputId": "7f51d0df-78bc-4cf6-99e4-aa777269de98"
   },
   "outputs": [
    {
     "name": "stdout",
     "output_type": "stream",
     "text": [
      "[[131   9]\n",
      " [ 90  51]]\n",
      "[[106  11]\n",
      " [ 58  50]]\n",
      "Accuracy of decision tree classifier on train set: 0.7146042363433668\n",
      "Accuracy of decision tree classifier on test set: 0.6476868327402135\n",
      "Accuracy of decision tree classifier on validation set: 0.6933333333333334\n"
     ]
    }
   ],
   "source": [
    "clf_gini_mog=clf_gini.fit(x_morg_train, y_morg_train)\n",
    "\n",
    "#prediction en utilisant test set et matrice de confusion\n",
    "predictions_morg_test = clf_gini_mog.predict(x_morg_test)\n",
    "cm_morg_test = metrics.confusion_matrix(y_morg_test, predictions_morg_test)\n",
    "print(cm_morg_test)\n",
    "\n",
    "#prediction en utilisant validation set et matrice de confusion \n",
    "predictions_morg_val = clf_gini_mog.predict(x_morg_val)\n",
    "cm_morg_val = metrics.confusion_matrix(y_morg_val, predictions_morg_val)\n",
    "print(cm_morg_val)\n",
    "\n",
    "print('Accuracy of decision tree classifier on test set:',clf_gini_mog.score(x_morg_test, y_morg_test))\n",
    "print('Accuracy of decision tree classifier on validation set:',clf_gini_mog.score(x_morg_val, y_morg_val))"
   ]
  },
  {
   "cell_type": "markdown",
   "metadata": {
    "id": "SWQOZv4BvCBI"
   },
   "source": [
    "**Random Forest**"
   ]
  },
  {
   "cell_type": "code",
   "execution_count": null,
   "metadata": {
    "id": "a3mTJ7vkvUUP"
   },
   "outputs": [],
   "source": [
    "rfc=RandomForestClassifier(n_estimators=100)"
   ]
  },
  {
   "cell_type": "code",
   "execution_count": null,
   "metadata": {
    "colab": {
     "base_uri": "https://localhost:8080/"
    },
    "id": "VkwpbhZkviFv",
    "outputId": "9e032def-3044-4f19-ad3d-29efd4abf375"
   },
   "outputs": [
    {
     "name": "stdout",
     "output_type": "stream",
     "text": [
      "[[135   5]\n",
      " [ 12 129]]\n",
      "[[112   5]\n",
      " [  7 101]]\n",
      "Accuracy of Random Forest classifier on train set: 0.9977703455964325\n",
      "Accuracy of Random Forest classifier on test set: 0.9395017793594306\n",
      "Accuracy of Random Forest classifier on validation set: 0.9466666666666667\n"
     ]
    }
   ],
   "source": [
    "rfc_mog=rfc.fit(x_morg_train, y_morg_train)\n",
    "\n",
    "#prediction en utilisant test set et matrice de confusion\n",
    "predictions_morg_test = rfc_mog.predict(x_morg_test)\n",
    "cm_morg_test = metrics.confusion_matrix(y_morg_test, predictions_morg_test)\n",
    "print(cm_morg_test)\n",
    "\n",
    "#prediction en utilisant validation set et matrice de confusion \n",
    "predictions_morg_val = rfc_mog.predict(x_morg_val)\n",
    "cm_morg_val = metrics.confusion_matrix(y_morg_val, predictions_morg_val)\n",
    "print(cm_morg_val)\n",
    "\n",
    "print('Accuracy of Random Forest classifier on test set:',rfc_mog.score(x_morg_test, y_morg_test))\n",
    "print('Accuracy of Random Forest classifier on validation set:',rfc_mog.score(x_morg_val, y_morg_val))"
   ]
  },
  {
   "cell_type": "markdown",
   "metadata": {
    "id": "tpdp0PKsy-jL"
   },
   "source": [
    "**Naive Bayes**"
   ]
  },
  {
   "cell_type": "code",
   "execution_count": null,
   "metadata": {
    "id": "UgHsuJEjzT4r"
   },
   "outputs": [],
   "source": [
    "nb = GaussianNB()"
   ]
  },
  {
   "cell_type": "code",
   "execution_count": null,
   "metadata": {
    "colab": {
     "base_uri": "https://localhost:8080/"
    },
    "id": "3JlTQAfGzjIr",
    "outputId": "f87e96bf-c10d-4259-d559-eaf62764ba5c"
   },
   "outputs": [
    {
     "name": "stdout",
     "output_type": "stream",
     "text": [
      "[[122  18]\n",
      " [  3 138]]\n",
      "[[104  13]\n",
      " [  1 107]]\n",
      "Accuracy of Naive Bayes classifier on train set: 0.967670011148272\n",
      "Accuracy of Naive Bayes classifier on test set: 0.9252669039145908\n",
      "Accuracy of Naive Bayes classifier on validation set: 0.9377777777777778\n"
     ]
    }
   ],
   "source": [
    "nb_mog=nb.fit(x_morg_train, y_morg_train)\n",
    "\n",
    "#prediction en utilisant test set et matrice de confusion\n",
    "predictions_morg_test = nb_mog.predict(x_morg_test)\n",
    "cm_morg_test = metrics.confusion_matrix(y_morg_test, predictions_morg_test)\n",
    "print(cm_morg_test)\n",
    "\n",
    "#prediction en utilisant validation set et matrice de confusion \n",
    "predictions_morg_val = nb_mog.predict(x_morg_val)\n",
    "cm_morg_val = metrics.confusion_matrix(y_morg_val, predictions_morg_val)\n",
    "print(cm_morg_val)\n",
    "\n",
    "print('Accuracy of Naive Bayes classifier on test set:',nb_mog.score(x_morg_test, y_morg_test))\n",
    "print('Accuracy of Naive Bayes classifier on validation set:',nb_mog.score(x_morg_val, y_morg_val))"
   ]
  },
  {
   "cell_type": "markdown",
   "metadata": {
    "id": "bJf1GfzS4EFE"
   },
   "source": [
    "**Spport Vector Machine**"
   ]
  },
  {
   "cell_type": "code",
   "execution_count": null,
   "metadata": {
    "id": "GsxV6hZP4Lvi"
   },
   "outputs": [],
   "source": [
    "svc = SVC(random_state=42,probability=True)"
   ]
  },
  {
   "cell_type": "code",
   "execution_count": null,
   "metadata": {
    "colab": {
     "base_uri": "https://localhost:8080/"
    },
    "id": "1Ceg-2QS4uM1",
    "outputId": "196e3e46-43c3-4126-f5aa-7b66d8947b5f"
   },
   "outputs": [
    {
     "name": "stdout",
     "output_type": "stream",
     "text": [
      "[[135   5]\n",
      " [  8 133]]\n",
      "[[111   6]\n",
      " [  4 104]]\n",
      "Accuracy of Spport vector machine classifier on train set: 0.9866220735785953\n",
      "Accuracy of Spport vector machine classifier on test set: 0.9537366548042705\n",
      "Accuracy of Spport vector machine classifier on validation set: 0.9555555555555556\n"
     ]
    }
   ],
   "source": [
    "svc_mog=svc.fit(x_morg_train, y_morg_train)\n",
    "\n",
    "#prediction en utilisant test set et matrice de confusion\n",
    "predictions_morg_test = svc_mog.predict(x_morg_test)\n",
    "cm_morg_test = metrics.confusion_matrix(y_morg_test, predictions_morg_test)\n",
    "print(cm_morg_test)\n",
    "\n",
    "#prediction en utilisant validation set et matrice de confusion \n",
    "predictions_morg_val = svc_mog.predict(x_morg_val)\n",
    "cm_morg_val = metrics.confusion_matrix(y_morg_val, predictions_morg_val)\n",
    "print(cm_morg_val)\n",
    "\n",
    "print('Accuracy of Spport vector machine classifier on test set:',svc_mog.score(x_morg_test, y_morg_test))\n",
    "print('Accuracy of Spport vector machine classifier on validation set:',svc_mog.score(x_morg_val, y_morg_val))"
   ]
  },
  {
   "cell_type": "markdown",
   "metadata": {
    "id": "36HZs_vzGvAd"
   },
   "source": [
    "**Model Comparison**"
   ]
  },
  {
   "cell_type": "code",
   "execution_count": null,
   "metadata": {
    "id": "30HhVfhg1qK5"
   },
   "outputs": [],
   "source": [
    "def auc_calc(x_val, y_val, model):\n",
    "    # Probability predictions using validation data\n",
    "    prob = model.predict_proba(x_val)\n",
    "    # Correct probability predictions\n",
    "    prob = prob[:, 1]\n",
    "    # Calculate area under the curve with validation data labels and correct predicted probabilities\n",
    "    auc = metrics.roc_auc_score(y_val, prob)\n",
    "    # Return the AUC score with 6 figures\n",
    "    return 'AUC: %.6f' % auc\n",
    "def f1score(x_val, y_val, model):\n",
    "    #predictions made on validation data\n",
    "    predictions = model.predict(x_val)\n",
    "    #generating the classification report\n",
    "    clrpt = classification_report(y_val, predictions, output_dict = True)\n",
    "    #accessing the weighted average entery in dictionairy\n",
    "    d = clrpt[\"weighted avg\"]\n",
    "    #calling the f1_score\n",
    "    f1 = d['f1-score']\n",
    "    return 'f1-score %.6f' % f1"
   ]
  },
  {
   "cell_type": "markdown",
   "metadata": {
    "id": "rlnLZtTRJJhD"
   },
   "source": [
    "**1. AUC**"
   ]
  },
  {
   "cell_type": "code",
   "execution_count": null,
   "metadata": {
    "colab": {
     "base_uri": "https://localhost:8080/"
    },
    "id": "xVEj9hUZICs6",
    "outputId": "9d21670b-0fbf-4c6a-dff4-6c68fa39c2e7"
   },
   "outputs": [
    {
     "name": "stdout",
     "output_type": "stream",
     "text": [
      "Regression lineaire AUC: 0.983697\n",
      "knn AUC: 0.482669\n",
      "gradient bosting AUC: 0.930991\n",
      "Arbre de decision AUC: 0.523860\n",
      "Random Forest AUC: 0.712251\n",
      "Naive Bayes AUC: 0.605769\n",
      "svm AUC: 0.651393\n"
     ]
    }
   ],
   "source": [
    "print('Linear regression',auc_calc(x_morg_val, y_morg_val, lr_morg))\n",
    "print('KNN',auc_calc(x_morg_val, y_morg_val, knn_morg))\n",
    "print('Gradient Boosting',auc_calc(x_morg_val, y_morg_val, gb_morg))\n",
    "print('Decision trees',auc_calc(x_morg_val, y_morg_val, clf_gini_mog))\n",
    "print('Random Forest',auc_calc(x_morg_val, y_morg_val, rfc_mog))\n",
    "print('Naive Bayes',auc_calc(x_morg_val, y_morg_val, nb_mog))\n",
    "print('SVM',auc_calc(x_morg_val, y_morg_val, svc_mog))"
   ]
  },
  {
   "cell_type": "markdown",
   "metadata": {
    "id": "k6S1rKBcJPIi"
   },
   "source": [
    "**2 f1-score**"
   ]
  },
  {
   "cell_type": "code",
   "execution_count": null,
   "metadata": {
    "colab": {
     "base_uri": "https://localhost:8080/"
    },
    "id": "rQgVcxxwJ2yX",
    "outputId": "9d1626f6-d971-4da7-84e2-38bcc8edc8c3"
   },
   "outputs": [
    {
     "name": "stdout",
     "output_type": "stream",
     "text": [
      "Regression lineaire f1-score 0.951090\n",
      "knn f1-score 0.345014\n",
      "gradient bosting f1-score 0.830937\n",
      "Arbre de decision f1-score 0.416595\n",
      "Random Forest f1-score 0.363551\n",
      "Naive Bayes f1-score 0.606375\n",
      "svm f1-score 0.375337\n"
     ]
    }
   ],
   "source": [
    "print('Linear regression',f1score(x_morg_val, y_morg_val, lr_morg))\n",
    "print('KNN',f1score(x_morg_val, y_morg_val, knn_morg))\n",
    "print('Gradient Boosting',f1score(x_morg_val, y_morg_val, gb_morg))\n",
    "print('Decision trees',f1score(x_morg_val, y_morg_val, clf_gini_mog))\n",
    "print('Random Forest',f1score(x_morg_val, y_morg_val, rfc_mog))\n",
    "print('Naive Bayes',f1score(x_morg_val, y_morg_val, nb_mog))\n",
    "print('SVM',f1score(x_morg_val, y_morg_val, svc_mog))"
   ]
  }
 ],
 "metadata": {
  "colab": {
   "collapsed_sections": [],
   "name": "Leish_data manipulation_stat desc_machine learning_deep learning.ipynb",
   "provenance": []
  },
  "kernelspec": {
   "display_name": "Python 3",
   "language": "python",
   "name": "python3"
  },
  "language_info": {
   "codemirror_mode": {
    "name": "ipython",
    "version": 3
   },
   "file_extension": ".py",
   "mimetype": "text/x-python",
   "name": "python",
   "nbconvert_exporter": "python",
   "pygments_lexer": "ipython3",
   "version": "3.6.10"
  }
 },
 "nbformat": 4,
 "nbformat_minor": 1
}
